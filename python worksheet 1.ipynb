{
 "cells": [
  {
   "cell_type": "markdown",
   "id": "87f53dc1",
   "metadata": {},
   "source": [
    "# Q10 to Q15 "
   ]
  },
  {
   "cell_type": "code",
   "execution_count": null,
   "id": "facf7eb2",
   "metadata": {},
   "outputs": [],
   "source": [
    "#10. Write a python program to find the factorial of a number\n"
   ]
  },
  {
   "cell_type": "code",
   "execution_count": null,
   "id": "f4f08e56",
   "metadata": {},
   "outputs": [],
   "source": [
    "n = int(input(20)) \n",
    "for i in range(1,n+1): \n",
    "    if not n%i: \n",
    "print(i,end=' ') "
   ]
  },
  {
   "cell_type": "code",
   "execution_count": null,
   "id": "d84faffd",
   "metadata": {},
   "outputs": [],
   "source": [
    "#11. Write a python program to find whether a number is prime or composite."
   ]
  },
  {
   "cell_type": "code",
   "execution_count": 5,
   "id": "afdacf44",
   "metadata": {},
   "outputs": [
    {
     "name": "stdout",
     "output_type": "stream",
     "text": [
      "7 is not a prime number\n",
      "7 is not a prime number\n",
      "7 is not a prime number\n",
      "7 is not a prime number\n",
      "7 is not a prime number\n",
      "7 is a prime number\n"
     ]
    }
   ],
   "source": [
    "no = 7\n",
    "if no > 1:\n",
    "    for i in range(2,no):\n",
    "        if(no % 1)==0:\n",
    "            print(no,\"is not a prime number\")\n",
    "    else:\n",
    "        print(no,\"is a prime number\")"
   ]
  },
  {
   "cell_type": "code",
   "execution_count": null,
   "id": "2ed5f7a5",
   "metadata": {},
   "outputs": [],
   "source": [
    "#12. Write a python program to check whether a given string is palindrome or not."
   ]
  },
  {
   "cell_type": "code",
   "execution_count": 1,
   "id": "2e8b4729",
   "metadata": {},
   "outputs": [
    {
     "name": "stdout",
     "output_type": "stream",
     "text": [
      "no\n",
      "no\n",
      "no\n",
      "no\n",
      "yes\n"
     ]
    }
   ],
   "source": [
    "x= \"madam\"  # madam is a palindrome\n",
    "y= \"\"\n",
    "for i in x:\n",
    "    y= i + y\n",
    "    if (x == y):\n",
    "        print(\"yes\")\n",
    "    else:\n",
    "        print(\"no\") \n",
    "        \n",
    "        "
   ]
  },
  {
   "cell_type": "code",
   "execution_count": null,
   "id": "38e8c552",
   "metadata": {},
   "outputs": [],
   "source": [
    "#13. Write a Python program to get the third side of right-angled triangle from two given sides."
   ]
  },
  {
   "cell_type": "code",
   "execution_count": null,
   "id": "6418fbb6",
   "metadata": {},
   "outputs": [],
   "source": [
    "#14. Write a python program to print the frequency of each of the characters present in a given string.\n"
   ]
  },
  {
   "cell_type": "code",
   "execution_count": 4,
   "id": "db478a7e",
   "metadata": {},
   "outputs": [
    {
     "name": "stdout",
     "output_type": "stream",
     "text": [
      "a ->  2\n",
      "b ->  1\n",
      "c ->  3\n",
      "d ->  1\n"
     ]
    }
   ],
   "source": [
    "list = ['a','b','a','c','d','c','c']\n",
    "frequency = {}\n",
    "for item in list :\n",
    "    if(item in frequency) :\n",
    "        frequency[item] += 1\n",
    "    else:\n",
    "        frequency[item] =1\n",
    "for key, value in frequency.items():\n",
    "    print(\"% s -> % d\" % (key, value))"
   ]
  },
  {
   "cell_type": "code",
   "execution_count": null,
   "id": "b929a5b1",
   "metadata": {},
   "outputs": [],
   "source": []
  },
  {
   "cell_type": "code",
   "execution_count": null,
   "id": "2e917d36",
   "metadata": {},
   "outputs": [],
   "source": []
  },
  {
   "cell_type": "code",
   "execution_count": null,
   "id": "361bdeea",
   "metadata": {},
   "outputs": [],
   "source": []
  },
  {
   "cell_type": "code",
   "execution_count": null,
   "id": "51e20a12",
   "metadata": {},
   "outputs": [],
   "source": []
  }
 ],
 "metadata": {
  "kernelspec": {
   "display_name": "Python 3",
   "language": "python",
   "name": "python3"
  },
  "language_info": {
   "codemirror_mode": {
    "name": "ipython",
    "version": 3
   },
   "file_extension": ".py",
   "mimetype": "text/x-python",
   "name": "python",
   "nbconvert_exporter": "python",
   "pygments_lexer": "ipython3",
   "version": "3.8.8"
  }
 },
 "nbformat": 4,
 "nbformat_minor": 5
}
